{
 "cells": [
  {
   "cell_type": "code",
   "execution_count": null,
   "id": "78ed6781-6671-4cc5-b862-0d1b189901a7",
   "metadata": {},
   "outputs": [],
   "source": [
    "# notebooks/04_model_training.ipynb\n",
    "\n",
    "import pandas as pd\n",
    "import sys\n",
    "import os\n",
    "import torch\n",
    "import pytorch_lightning as pl\n",
    "\n",
    "# Add src to path to import our modules\n",
    "module_path = os.path.abspath(os.path.join('..'))\n",
    "if module_path not in sys.path:\n",
    "    sys.path.append(module_path)\n",
    "\n",
    "import config\n",
    "from src.model import create_tft_dataset, train_tft_model, save_model\n",
    "from pytorch_forecasting import TemporalFusionTransformer\n",
    "from pytorch_forecasting.metrics import QuantileLoss\n",
    "\n",
    "# --- 1. Load Processed Data ---\n",
    "try:\n",
    "    df = pd.read_csv(config.PROCESSED_DATA_FILE, index_col='time', parse_dates=True)\n",
    "    print(f\"Processed data loaded successfully from {config.PROCESSED_DATA_FILE}\")\n",
    "except FileNotFoundError:\n",
    "    print(f\"Error: Processed data file not found. Please run notebook 02 first.\")\n",
    "    raise\n",
    "\n",
    "# --- 2. Create the TimeSeriesDataSet ---\n",
    "# This can take some time. The new function no longer returns a scaler.\n",
    "print(\"Creating TimeSeriesDataSet with advanced features...\")\n",
    "tft_dataset = create_tft_dataset(df)\n",
    "print(\"DataSet created successfully.\")\n",
    "print(f\"Number of training samples: {len(tft_dataset)}\")\n",
    "\n",
    "# --- 3. Train the Model ---\n",
    "# This is computationally intensive. Use Google Colab with GPU for best results.\n",
    "# The train_tft_model function is already updated in model.py to handle this.\n",
    "print(\"\\nStarting model training...\")\n",
    "tft_model, trainer = train_tft_model(tft_dataset)\n",
    "print(\"Training complete.\")\n",
    "\n",
    "# --- 4. Save the Trained Model ---\n",
    "# The save_model function in model.py finds the best checkpoint from the trainer.\n",
    "save_model(trainer, config.MODEL_FILE)"
   ]
  }
 ],
 "metadata": {
  "kernelspec": {
   "display_name": "Python 3 (ipykernel)",
   "language": "python",
   "name": "python3"
  },
  "language_info": {
   "codemirror_mode": {
    "name": "ipython",
    "version": 3
   },
   "file_extension": ".py",
   "mimetype": "text/x-python",
   "name": "python",
   "nbconvert_exporter": "python",
   "pygments_lexer": "ipython3",
   "version": "3.12.9"
  }
 },
 "nbformat": 4,
 "nbformat_minor": 5
}
