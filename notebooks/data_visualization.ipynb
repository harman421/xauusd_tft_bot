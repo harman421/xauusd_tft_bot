{
 "cells": [
  {
   "cell_type": "code",
   "execution_count": null,
   "id": "ac59c2c2-4665-4183-8e7d-42af2d3d27a0",
   "metadata": {},
   "outputs": [],
   "source": [
    "# In a Jupyter cell\n",
    "\n",
    "import pandas as pd\n",
    "import sys\n",
    "import os\n",
    "\n",
    "module_path = os.path.abspath(os.path.join('..'))\n",
    "if module_path not in sys.path:\n",
    "    sys.path.append(module_path)\n",
    "\n",
    "import config\n",
    "from src.visualization import plot_candlestick\n",
    "\n",
    "# Load the final processed data\n",
    "try:\n",
    "    df = pd.read_csv(config.PROCESSED_DATA_FILE, index_col='time', parse_dates=True)\n",
    "    print(\"Processed data loaded.\")\n",
    "\n",
    "    # Create an interactive candlestick chart of the last 1000 data points\n",
    "    plot_candlestick(df.tail(1000), \"XAUUSD Interactive Chart with Features\")\n",
    "\n",
    "except FileNotFoundError:\n",
    "    print(f\"Error: Processed data file not found. Please run notebook 02 first.\")"
   ]
  }
 ],
 "metadata": {
  "kernelspec": {
   "display_name": "Python 3 (ipykernel)",
   "language": "python",
   "name": "python3"
  },
  "language_info": {
   "codemirror_mode": {
    "name": "ipython",
    "version": 3
   },
   "file_extension": ".py",
   "mimetype": "text/x-python",
   "name": "python",
   "nbconvert_exporter": "python",
   "pygments_lexer": "ipython3",
   "version": "3.12.9"
  }
 },
 "nbformat": 4,
 "nbformat_minor": 5
}
