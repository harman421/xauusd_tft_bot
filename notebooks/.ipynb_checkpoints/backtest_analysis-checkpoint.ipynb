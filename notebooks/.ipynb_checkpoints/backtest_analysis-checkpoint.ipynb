{
 "cells": [
  {
   "cell_type": "code",
   "execution_count": null,
   "id": "9ef2d5ca-4f00-4794-b738-177ee92aa156",
   "metadata": {},
   "outputs": [],
   "source": [
    "# In a Jupyter cell\n",
    "\n",
    "import pandas as pd\n",
    "import sys\n",
    "import os\n",
    "import torch\n",
    "\n",
    "module_path = os.path.abspath(os.path.join('..'))\n",
    "if module_path not in sys.path:\n",
    "    sys.path.append(module_path)\n",
    "\n",
    "import config\n",
    "from src.model import load_model\n",
    "from src.visualization import plot_predictions, plot_feature_importance\n",
    "\n",
    "# Load the processed data and the trained model\n",
    "df = pd.read_csv(config.PROCESSED_DATA_FILE, index_col='time', parse_dates=True)\n",
    "model = load_model(config.MODEL_FILE)\n",
    "\n",
    "# Create a dataloader for prediction on the last part of the dataset\n",
    "encoder_data = df[lambda x: x.time_idx > x.time_idx.max() - config.ENCODER_LENGTH]\n",
    "last_data = df[lambda x: x.time_idx == x.time_idx.max()]\n",
    "decoder_data = df[lambda x: x.time_idx > x.time_idx.max() - config.ENCODER_LENGTH]\n",
    "\n",
    "\n",
    "# Make predictions\n",
    "raw_predictions = model.predict(decoder_data, mode=\"prediction\", return_x=True)\n",
    "predictions = model.transform_output(raw_predictions, target_normalizer=model.target_normalizer)\n",
    "\n",
    "# Create a readable DataFrame for predictions\n",
    "prediction_start_time = df.index[-1] + pd.Timedelta(hours=1)\n",
    "prediction_index = pd.date_range(start=prediction_start_time, periods=config.PREDICTION_LENGTH, freq='H')\n",
    "prediction_df = pd.DataFrame({\n",
    "    'prediction': predictions[0].numpy(),\n",
    "    'p10': raw_predictions.output[0][:, 2].numpy(), # Quantile 0.1\n",
    "    'p90': raw_predictions.output[0][:, 5].numpy()  # Quantile 0.9\n",
    "}, index=prediction_index)\n",
    "\n",
    "\n",
    "# Visualize predictions\n",
    "hist_df_for_plot = df.tail(config.ENCODER_LENGTH)\n",
    "plot_predictions(hist_df_for_plot, prediction_df)\n",
    "\n",
    "# Visualize feature importance\n",
    "interp = model.interpret_output(raw_predictions.output, reduction=\"sum\")\n",
    "feature_names = model.encoder_variables + model.decoder_variables\n",
    "fig = plot_feature_importance(interp, feature_names)\n",
    "fig.savefig(config.FIGURES_DIR / \"feature_importance.png\")\n",
    "plt.show()"
   ]
  }
 ],
 "metadata": {
  "kernelspec": {
   "display_name": "Python 3 (ipykernel)",
   "language": "python",
   "name": "python3"
  },
  "language_info": {
   "codemirror_mode": {
    "name": "ipython",
    "version": 3
   },
   "file_extension": ".py",
   "mimetype": "text/x-python",
   "name": "python",
   "nbconvert_exporter": "python",
   "pygments_lexer": "ipython3",
   "version": "3.12.9"
  }
 },
 "nbformat": 4,
 "nbformat_minor": 5
}
